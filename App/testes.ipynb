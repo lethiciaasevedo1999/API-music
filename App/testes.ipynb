{
 "cells": [
  {
   "cell_type": "markdown",
   "metadata": {},
   "source": [
    "# ***Ambiente de testes***"
   ]
  },
  {
   "cell_type": "markdown",
   "metadata": {},
   "source": [
    "Esse projeto é uma API de buscas de letras de músicas. O link do site utilizado para consumo é : https://api.lyrics.ovh/v1"
   ]
  },
  {
   "cell_type": "code",
   "execution_count": 8,
   "metadata": {},
   "outputs": [
    {
     "name": "stdout",
     "output_type": "stream",
     "text": [
      "200\n"
     ]
    }
   ],
   "source": [
    "import requests\n",
    "\n",
    "endpoint = \"https://api.lyrics.ovh/v1/titas/epitafio\"\n",
    "\n",
    "response = requests.get(endpoint)\n",
    "print(response.status_code)"
   ]
  },
  {
   "cell_type": "markdown",
   "metadata": {},
   "source": [
    "- Verificando de a API está funcionando com um retorno em json."
   ]
  },
  {
   "cell_type": "code",
   "execution_count": 9,
   "metadata": {},
   "outputs": [
    {
     "data": {
      "text/plain": [
       "{'lyrics': 'Devia ter amado mais\\r\\nTer chorado mais\\r\\nTer visto o sol nascer\\r\\nDevia ter arriscado mais e até errado mais\\r\\nTer feito o que eu queria fazer\\r\\nQueria ter aceitado as pessoas como elas são\\n\\nCada um sabe a alegria e a dor que traz no coração\\n\\n\\n\\nO acaso vai me proteger\\n\\nEnquanto eu andar distraído\\n\\nO acaso vai me proteger\\n\\nEnquanto eu andar...\\n\\n\\n\\nDevia ter complicado menos, trabalhado menos\\n\\nTer visto o sol se pôr\\n\\nDevia ter me importado menos com problemas pequenos\\n\\nTer morrido de amor\\n\\nQueria ter aceitado a vida como ela é\\n\\nA cada um cabe alegrias e a tristeza que vier\\n\\n\\n\\nO acaso vai me proteger\\n\\nEnquanto eu andar distraído\\n\\nO acaso vai me proteger\\n\\nEnquanto eu andar...\\n\\n\\n\\nDevia ter complicado menos, trabalhado menos\\n\\nTer visto o sol se pôr.'}"
      ]
     },
     "execution_count": 9,
     "metadata": {},
     "output_type": "execute_result"
    }
   ],
   "source": [
    "response.json()"
   ]
  },
  {
   "cell_type": "markdown",
   "metadata": {},
   "source": [
    "- Printando o retorno da minha API (meu arquivo json)"
   ]
  },
  {
   "cell_type": "code",
   "execution_count": 7,
   "metadata": {},
   "outputs": [
    {
     "name": "stdout",
     "output_type": "stream",
     "text": [
      "Devia ter amado mais\n",
      "Ter chorado mais\n",
      "Ter visto o sol nascer\n",
      "Devia ter arriscado mais e até errado mais\n",
      "Ter feito o que eu queria fazer\n",
      "Queria ter aceitado as pessoas como elas são\n",
      "\n",
      "Cada um sabe a alegria e a dor que traz no coração\n",
      "\n",
      "\n",
      "\n",
      "O acaso vai me proteger\n",
      "\n",
      "Enquanto eu andar distraído\n",
      "\n",
      "O acaso vai me proteger\n",
      "\n",
      "Enquanto eu andar...\n",
      "\n",
      "\n",
      "\n",
      "Devia ter complicado menos, trabalhado menos\n",
      "\n",
      "Ter visto o sol se pôr\n",
      "\n",
      "Devia ter me importado menos com problemas pequenos\n",
      "\n",
      "Ter morrido de amor\n",
      "\n",
      "Queria ter aceitado a vida como ela é\n",
      "\n",
      "A cada um cabe alegrias e a tristeza que vier\n",
      "\n",
      "\n",
      "\n",
      "O acaso vai me proteger\n",
      "\n",
      "Enquanto eu andar distraído\n",
      "\n",
      "O acaso vai me proteger\n",
      "\n",
      "Enquanto eu andar...\n",
      "\n",
      "\n",
      "\n",
      "Devia ter complicado menos, trabalhado menos\n",
      "\n",
      "Ter visto o sol se pôr.\n"
     ]
    }
   ],
   "source": [
    "print(response.json()['lyrics'])"
   ]
  },
  {
   "cell_type": "markdown",
   "metadata": {},
   "source": [
    "update"
   ]
  }
 ],
 "metadata": {
  "kernelspec": {
   "display_name": "venv",
   "language": "python",
   "name": "python3"
  },
  "language_info": {
   "codemirror_mode": {
    "name": "ipython",
    "version": 3
   },
   "file_extension": ".py",
   "mimetype": "text/x-python",
   "name": "python",
   "nbconvert_exporter": "python",
   "pygments_lexer": "ipython3",
   "version": "3.12.6"
  }
 },
 "nbformat": 4,
 "nbformat_minor": 2
}
